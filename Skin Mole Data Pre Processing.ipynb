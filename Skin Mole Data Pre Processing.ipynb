{
 "cells": [
  {
   "cell_type": "markdown",
   "metadata": {},
   "source": [
    "# Skin mole classifier _ Pre Processing\n",
    "### A Convolutional Deep Neural Network with Adam Optimization and User-facing UI\n",
    "by Philipp Bechhaus in association with deeplearning.ai, Stanford University and the ISIC® Archive\n",
    "\n",
    "Pre Processing:\n",
    "- prep_utils to crawl isic-api\n",
    "- creates toupled list of ID and DIAGNOSIS\n",
    "- stores images locally (5,000 img ~> 10GB)\n",
    "- adds naming convention to images ID.DIAGNOSIS.JPG\n",
    "\n",
    "\n",
    "#### Required packages:\n",
    "- [numpy](www.numpy.org)\n",
    "- [matplotlib](http://matplotlib.org)\n",
    "- [h5py](http://www.h5py.org)\n",
    "- [pillow](https://pypi.python.org/pypi/Pillow/4.2.1/)\n",
    "- [scipy](https://www.scipy.org/)\n",
    "- [tensorflow](https://www.tensorflow.org/)\n",
    "- [opencv](http://opencv-python-tutroals.readthedocs.io/en/latest/py_tutorials/py_gui/py_image_display/py_image_display.html)\n"
   ]
  },
  {
   "cell_type": "code",
   "execution_count": 1,
   "metadata": {},
   "outputs": [],
   "source": [
    "import os\n",
    "import cv2\n",
    "import numpy as np\n",
    "from prep_utils import *\n",
    "from urllib.request import urlopen\n",
    "from urllib.request import urlretrieve\n",
    "import json\n",
    "import time, sys\n",
    "import datetime\n",
    "import multiprocessing\n",
    "from PIL import Image\n",
    "import uuid\n",
    "import shutil"
   ]
  },
  {
   "cell_type": "code",
   "execution_count": 2,
   "metadata": {},
   "outputs": [],
   "source": [
    "# pre-processing\n",
    "\n",
    "D_SIZE = 5000"
   ]
  },
  {
   "cell_type": "code",
   "execution_count": 3,
   "metadata": {},
   "outputs": [
    {
     "name": "stdout",
     "output_type": "stream",
     "text": [
      "0:00:02.216664\n",
      "0:02:15.899989\n"
     ]
    }
   ],
   "source": [
    "mole_diag = diagnosis(D_SIZE)"
   ]
  },
  {
   "cell_type": "code",
   "execution_count": 5,
   "metadata": {},
   "outputs": [],
   "source": [
    "#mole_img = d_images(D_SIZE)"
   ]
  },
  {
   "cell_type": "code",
   "execution_count": 8,
   "metadata": {
    "scrolled": true
   },
   "outputs": [],
   "source": [
    "test = [words for segments in mole_diag for words in segments.split('.')]"
   ]
  },
  {
   "cell_type": "code",
   "execution_count": 9,
   "metadata": {},
   "outputs": [],
   "source": [
    "new_dict = {}\n",
    "i = 0\n",
    "j = 0\n",
    "while i < len(test):\n",
    "    if i % 2 == 0:\n",
    "        new_dict[i+1-j] = [str(test[i]), test[i+1]]\n",
    "        j +=1\n",
    "    i +=1"
   ]
  },
  {
   "cell_type": "code",
   "execution_count": 10,
   "metadata": {},
   "outputs": [],
   "source": [
    "for i in new_dict:\n",
    "     os.rename('images/'+str(new_dict[i][0])+'.jpg','images/'+str(new_dict[i][0])+'.'+str(new_dict[i][1])+'.jpg')"
   ]
  },
  {
   "cell_type": "code",
   "execution_count": null,
   "metadata": {},
   "outputs": [],
   "source": []
  }
 ],
 "metadata": {
  "kernelspec": {
   "display_name": "Python 3",
   "language": "python",
   "name": "python3"
  },
  "language_info": {
   "codemirror_mode": {
    "name": "ipython",
    "version": 3
   },
   "file_extension": ".py",
   "mimetype": "text/x-python",
   "name": "python",
   "nbconvert_exporter": "python",
   "pygments_lexer": "ipython3",
   "version": "3.6.1"
  }
 },
 "nbformat": 4,
 "nbformat_minor": 2
}
